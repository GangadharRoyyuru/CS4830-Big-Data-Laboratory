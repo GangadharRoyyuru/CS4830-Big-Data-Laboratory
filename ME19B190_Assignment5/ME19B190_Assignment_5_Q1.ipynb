{
  "nbformat": 4,
  "nbformat_minor": 0,
  "metadata": {
    "colab": {
      "provenance": []
    },
    "kernelspec": {
      "name": "python3",
      "display_name": "Python 3"
    },
    "language_info": {
      "name": "python"
    }
  },
  "cells": [
    {
      "cell_type": "code",
      "execution_count": 1,
      "metadata": {
        "colab": {
          "base_uri": "https://localhost:8080/"
        },
        "id": "_T5glCCty7hA",
        "outputId": "9e101e13-071a-4da5-cc80-28c85ecf923c"
      },
      "outputs": [
        {
          "output_type": "stream",
          "name": "stdout",
          "text": [
            "Looking in indexes: https://pypi.org/simple, https://us-python.pkg.dev/colab-wheels/public/simple/\n",
            "Collecting pyspark\n",
            "  Downloading pyspark-3.3.2.tar.gz (281.4 MB)\n",
            "\u001b[2K     \u001b[90m━━━━━━━━━━━━━━━━━━━━━━━━━━━━━━━━━━━━━━━\u001b[0m \u001b[32m281.4/281.4 MB\u001b[0m \u001b[31m4.8 MB/s\u001b[0m eta \u001b[36m0:00:00\u001b[0m\n",
            "\u001b[?25h  Preparing metadata (setup.py) ... \u001b[?25l\u001b[?25hdone\n",
            "Collecting py4j==0.10.9.5\n",
            "  Downloading py4j-0.10.9.5-py2.py3-none-any.whl (199 kB)\n",
            "\u001b[2K     \u001b[90m━━━━━━━━━━━━━━━━━━━━━━━━━━━━━━━━━━━━━━\u001b[0m \u001b[32m199.7/199.7 KB\u001b[0m \u001b[31m20.0 MB/s\u001b[0m eta \u001b[36m0:00:00\u001b[0m\n",
            "\u001b[?25hBuilding wheels for collected packages: pyspark\n",
            "  Building wheel for pyspark (setup.py) ... \u001b[?25l\u001b[?25hdone\n",
            "  Created wheel for pyspark: filename=pyspark-3.3.2-py2.py3-none-any.whl size=281824025 sha256=19643b0440f5a2a923fea47d299d590802f5d6368a637c35d213d3c3c1090877\n",
            "  Stored in directory: /root/.cache/pip/wheels/6c/e3/9b/0525ce8a69478916513509d43693511463c6468db0de237c86\n",
            "Successfully built pyspark\n",
            "Installing collected packages: py4j, pyspark\n",
            "Successfully installed py4j-0.10.9.5 pyspark-3.3.2\n"
          ]
        }
      ],
      "source": [
        "pip install pyspark"
      ]
    },
    {
      "cell_type": "code",
      "source": [
        "from pyspark.sql.functions import *\n",
        "from pyspark.sql import SparkSession\n",
        "import sys\n",
        "import numpy as np\n",
        "\n",
        "spark = SparkSession.builder.appName(\"SCD\").getOrCreate()\n",
        "\n",
        "customer_data=[(1,'Harsha','20-08-1990','01-01-1970','12-12-9999'),(2,'Goldie','11-02-1990','01-01-1970','12-12-9999'),(3,'Divya','25-12-1990','01-01-1970','12-12-9999')]\n",
        "cols = ['id','name','dob','validity_start','validity_end']\n",
        "customer_data_df = spark.createDataFrame(data = customer_data, schema =  cols)\n",
        "curr_date = '12-03-2023'\n",
        "\n",
        "updates=[['Harsha','05-09-1990']]\n",
        "updates_df = spark.createDataFrame(data = updates,schema = ['name', 'updated_dob'])\n",
        "\n",
        "new_record_toappend = updates_df.join(customer_data_df, on = 'name', how = 'inner')   \n",
        "#drop the dob column as the value in the updated_dob column(which is from source data) needs to be appended to the existing dob\n",
        "#rename the column updated_dob to dob\n",
        "#change the value of the validity start date to 12-03-2023(current date)\n",
        "new_record_toappend = new_record_toappend.withColumn('validity_start', lit(curr_date))\n",
        "new_record_toappend = new_record_toappend.drop('dob').withColumnRenamed('updated_dob', 'dob')\n",
        "new_record_toappend.show()\n"
      ],
      "metadata": {
        "colab": {
          "base_uri": "https://localhost:8080/"
        },
        "id": "xMMuGeTAzKG8",
        "outputId": "5dfa27af-67fe-45de-cfa4-6c961b5c189e"
      },
      "execution_count": 54,
      "outputs": [
        {
          "output_type": "stream",
          "name": "stdout",
          "text": [
            "+------+----------+---+--------------+------------+\n",
            "|  name|       dob| id|validity_start|validity_end|\n",
            "+------+----------+---+--------------+------------+\n",
            "|Harsha|05-09-1990|  1|    12-03-2023|  12-12-9999|\n",
            "+------+----------+---+--------------+------------+\n",
            "\n"
          ]
        }
      ]
    },
    {
      "cell_type": "code",
      "source": [
        "new_record_toappend = new_record_toappend.select(\"name\", \"id\", \"dob\", \"validity_start\", \"validity_end\")\n",
        "modifed_customerdata = customer_data_df.join(updates_df, 'name', 'left_outer')\n",
        "\n",
        "\n",
        "#Change the validity end date to 12-03-2023 for the previous record\n",
        "#so when the left outer join has null values in the updated dob it means that the records should not to be modified.\n",
        "#Only the case where we have updated_dob values which are not null, we have to modify the validity end to curr_date\n",
        "modifed_customerdata = modifed_customerdata.withColumn('validity_end', when(modifed_customerdata['updated_dob'].isNotNull(),curr_date).otherwise(modifed_customerdata['validity_end']))\n",
        "#drop the updated dob column as it is redundant and not necessary for final table creation\n",
        "modifed_customerdata = modifed_customerdata.drop('updated_dob')\n",
        "\n",
        "print(\"Modification to existing customer data:\")\n",
        "modifed_customerdata.show()\n"
      ],
      "metadata": {
        "colab": {
          "base_uri": "https://localhost:8080/"
        },
        "id": "JU-056YD0YTd",
        "outputId": "a3f97a69-81e6-4b58-a25d-6806c6a47a6d"
      },
      "execution_count": 55,
      "outputs": [
        {
          "output_type": "stream",
          "name": "stdout",
          "text": [
            "Modification to existing customer data:\n",
            "+------+---+----------+--------------+------------+\n",
            "|  name| id|       dob|validity_start|validity_end|\n",
            "+------+---+----------+--------------+------------+\n",
            "|Harsha|  1|20-08-1990|    01-01-1970|  12-03-2023|\n",
            "|Goldie|  2|11-02-1990|    01-01-1970|  12-12-9999|\n",
            "| Divya|  3|25-12-1990|    01-01-1970|  12-12-9999|\n",
            "+------+---+----------+--------------+------------+\n",
            "\n"
          ]
        }
      ]
    },
    {
      "cell_type": "code",
      "source": [
        "#append the new record to existing customer data\n",
        "print(\"Initial customer data:\")\n",
        "customer_data_df.show()\n",
        "print(\"Final SCD type 2 table: \")\n",
        "finaltable = modifed_customerdata.union(new_record_toappend)\n",
        "finaltable.show()"
      ],
      "metadata": {
        "colab": {
          "base_uri": "https://localhost:8080/"
        },
        "id": "2YOQVdIF1_xK",
        "outputId": "80921026-fa7e-46c7-b55c-9f6c16775479"
      },
      "execution_count": 56,
      "outputs": [
        {
          "output_type": "stream",
          "name": "stdout",
          "text": [
            "Initial customer data:\n",
            "+---+------+----------+--------------+------------+\n",
            "| id|  name|       dob|validity_start|validity_end|\n",
            "+---+------+----------+--------------+------------+\n",
            "|  1|Harsha|20-08-1990|    01-01-1970|  12-12-9999|\n",
            "|  2|Goldie|11-02-1990|    01-01-1970|  12-12-9999|\n",
            "|  3| Divya|25-12-1990|    01-01-1970|  12-12-9999|\n",
            "+---+------+----------+--------------+------------+\n",
            "\n",
            "Final SCD type 2 table: \n",
            "+------+---+----------+--------------+------------+\n",
            "|  name| id|       dob|validity_start|validity_end|\n",
            "+------+---+----------+--------------+------------+\n",
            "|Harsha|  1|20-08-1990|    01-01-1970|  12-03-2023|\n",
            "|Goldie|  2|11-02-1990|    01-01-1970|  12-12-9999|\n",
            "| Divya|  3|25-12-1990|    01-01-1970|  12-12-9999|\n",
            "|Harsha|  1|05-09-1990|    12-03-2023|  12-12-9999|\n",
            "+------+---+----------+--------------+------------+\n",
            "\n"
          ]
        }
      ]
    }
  ]
}