{
  "nbformat": 4,
  "nbformat_minor": 0,
  "metadata": {
    "colab": {
      "provenance": []
    },
    "kernelspec": {
      "name": "python3",
      "display_name": "Python 3"
    },
    "language_info": {
      "name": "python"
    }
  },
  "cells": [
    {
      "cell_type": "code",
      "execution_count": null,
      "metadata": {
        "colab": {
          "base_uri": "https://localhost:8080/"
        },
        "id": "2U4kazuN6nx3",
        "outputId": "ec576c11-6cea-4c8d-9144-11f37247750a"
      },
      "outputs": [
        {
          "output_type": "stream",
          "name": "stdout",
          "text": [
            "Looking in indexes: https://pypi.org/simple, https://us-python.pkg.dev/colab-wheels/public/simple/\n",
            "Requirement already satisfied: pyspark in /usr/local/lib/python3.9/dist-packages (3.3.2)\n",
            "Requirement already satisfied: py4j in /usr/local/lib/python3.9/dist-packages (0.10.9.5)\n"
          ]
        }
      ],
      "source": [
        "!pip install pyspark py4j"
      ]
    },
    {
      "cell_type": "code",
      "source": [
        "from pyspark.sql import SparkSession\n",
        "spark = SparkSession.builder.appName(\"scd2_demo\").getOrCreate()"
      ],
      "metadata": {
        "id": "y4bAGKKbCbuS"
      },
      "execution_count": 271,
      "outputs": []
    },
    {
      "cell_type": "markdown",
      "source": [
        "**Step1**\n",
        "\n",
        "Get the current customer data and the data that needs to be updated"
      ],
      "metadata": {
        "id": "ezauu66iDHnB"
      }
    },
    {
      "cell_type": "code",
      "source": [
        "#creating current customer data\n",
        "current_data = \"\"\"\n",
        " SELECT   INT(1) AS id,\n",
        "          STRING('Harsha') AS name,\n",
        "          STRING('20-08-1990') AS dob,\n",
        "          STRING('01-01-1970') AS validity_start,\n",
        "          STRING('12-12-9999') AS validity_end          \n",
        "         \n",
        " UNION\n",
        " SELECT   INT(2) AS id,\n",
        "          STRING('Goldie') AS name,\n",
        "          STRING('11-02-1990') AS dob,\n",
        "          STRING('01-01-1970') AS validity_start,\n",
        "          STRING('12-12-9999') AS validity_end\n",
        "          \n",
        " UNION\n",
        " SELECT   INT(3) AS id,\n",
        "          STRING('Divya') AS name,\n",
        "          STRING('25-12-1990') AS dob,\n",
        "          STRING('01-01-1970') AS validity_start,\n",
        "          STRING('12-12-9999') AS validity_end          \n",
        "\"\"\"\n",
        "df_current_data = spark.sql(current_data)\n",
        "df_current_data.createOrReplaceTempView(\"current_data\")\n",
        "df_current_data = spark.sql(\"SELECT * FROM current_data\")\n",
        "df_current_data.show()"
      ],
      "metadata": {
        "colab": {
          "base_uri": "https://localhost:8080/"
        },
        "id": "g68t8SnCCclf",
        "outputId": "5dafd539-cddc-4012-9341-f440577c765c"
      },
      "execution_count": 272,
      "outputs": [
        {
          "output_type": "stream",
          "name": "stdout",
          "text": [
            "+---+------+----------+--------------+------------+\n",
            "| id|  name|       dob|validity_start|validity_end|\n",
            "+---+------+----------+--------------+------------+\n",
            "|  1|Harsha|20-08-1990|    01-01-1970|  12-12-9999|\n",
            "|  2|Goldie|11-02-1990|    01-01-1970|  12-12-9999|\n",
            "|  3| Divya|25-12-1990|    01-01-1970|  12-12-9999|\n",
            "+---+------+----------+--------------+------------+\n",
            "\n"
          ]
        }
      ]
    },
    {
      "cell_type": "code",
      "source": [
        "#getting the data that needs to be updated\n",
        "source_data = \"\"\"\n",
        " SELECT   \n",
        "          STRING('Harsha') AS name,\n",
        "          STRING('05-09-1990') AS updated_dob\"\"\"\n",
        "\n",
        "df_source = spark.sql(source_data)\n",
        "df_source.createOrReplaceTempView(\"customer_data\")\n",
        "df_source = spark.sql(\"SELECT * FROM customer_data\")\n",
        "df_source.show()"
      ],
      "metadata": {
        "colab": {
          "base_uri": "https://localhost:8080/"
        },
        "id": "boHvxWuYCjuq",
        "outputId": "b9705fb8-b32e-4943-e565-e3327d0688fb"
      },
      "execution_count": 273,
      "outputs": [
        {
          "output_type": "stream",
          "name": "stdout",
          "text": [
            "+------+-----------+\n",
            "|  name|updated_dob|\n",
            "+------+-----------+\n",
            "|Harsha| 05-09-1990|\n",
            "+------+-----------+\n",
            "\n"
          ]
        }
      ]
    },
    {
      "cell_type": "markdown",
      "source": [
        "**Step2**\n",
        "\n",
        "Do a inner join operation to get the names of the customers whose existing data needs to be updated"
      ],
      "metadata": {
        "id": "lbPfgjwlDUH_"
      }
    },
    {
      "cell_type": "code",
      "source": [
        "# get the to be modified name key\n",
        "update_curr = \"\"\"\n",
        " SELECT   \n",
        "          customer_data.name\n",
        " FROM     customer_data\n",
        "          INNER JOIN current_data \n",
        "          ON current_data.name = customer_data.name         \n",
        "\"\"\"\n",
        "\n",
        "to_bemodified = spark.sql(update_curr)\n",
        "to_bemodified.createOrReplaceTempView(\"tobe_modified\")\n",
        "\n",
        "to_bemodified.show()"
      ],
      "metadata": {
        "colab": {
          "base_uri": "https://localhost:8080/"
        },
        "id": "GKpQlbyCIyeG",
        "outputId": "95b34447-6d43-4a55-acf5-6253e455dfe4"
      },
      "execution_count": 274,
      "outputs": [
        {
          "output_type": "stream",
          "name": "stdout",
          "text": [
            "+------+\n",
            "|  name|\n",
            "+------+\n",
            "|Harsha|\n",
            "+------+\n",
            "\n"
          ]
        }
      ]
    },
    {
      "cell_type": "markdown",
      "source": [
        "**Step3**\n",
        "\n",
        "Change the validity end date of the current records(records in tobe_modified table) to present day date i.e 12-03-2023,"
      ],
      "metadata": {
        "id": "KF7RmZ0SDlir"
      }
    },
    {
      "cell_type": "code",
      "source": [
        "# make the end validity date of current records(records in tobe_modified table) to 12-03-2023\n",
        "change_date = \"\"\"\n",
        " SELECT   current_data.id,\n",
        "          current_data.name,\n",
        "          current_data.dob,\n",
        "          current_data.validity_start,\n",
        "          STRING('12-03-2023') AS validity_end\n",
        "          \n",
        "        \n",
        " FROM     current_data \n",
        "          INNER JOIN tobe_modified \n",
        "          ON tobe_modified.name = current_data.name\n",
        "\n",
        "\"\"\"\n",
        "df_changed_validity_date = spark.sql(change_date)\n",
        "\n",
        "df_changed_validity_date.createOrReplaceTempView(\"update_curr_records_value\")\n",
        "df_changed_validity_date.show()"
      ],
      "metadata": {
        "colab": {
          "base_uri": "https://localhost:8080/"
        },
        "id": "k_MqiO6oQcsD",
        "outputId": "17b20751-20bb-4050-b901-2e4c70f240ba"
      },
      "execution_count": 275,
      "outputs": [
        {
          "output_type": "stream",
          "name": "stdout",
          "text": [
            "+---+------+----------+--------------+------------+\n",
            "| id|  name|       dob|validity_start|validity_end|\n",
            "+---+------+----------+--------------+------------+\n",
            "|  1|Harsha|20-08-1990|    01-01-1970|  12-03-2023|\n",
            "+---+------+----------+--------------+------------+\n",
            "\n"
          ]
        }
      ]
    },
    {
      "cell_type": "markdown",
      "source": [
        "**Step4**\n",
        "\n",
        "Get the unaffected records from the original customer data"
      ],
      "metadata": {
        "id": "R9ncTBklEEfw"
      }
    },
    {
      "cell_type": "code",
      "source": [
        "#get the datasets that are not modified from the original customer data\n",
        "\n",
        "retrive_unaffected = \"\"\"\n",
        " SELECT   current_data.id,\n",
        "          current_data.name,\n",
        "          current_data.dob,\n",
        "          current_data.validity_start,\n",
        "          current_data.validity_end\n",
        "          \n",
        " FROM     current_data \n",
        "          LEFT OUTER JOIN tobe_modified \n",
        "          ON tobe_modified.name = current_data.name\n",
        " WHERE    tobe_modified.name IS NULL\n",
        "\"\"\"\n",
        "df_retrive_unaffected = spark.sql(retrive_unaffected)\n",
        "df_retrive_unaffected.createOrReplaceTempView(\"unaffected_recs\")\n",
        "df_retrive_unaffected.show()"
      ],
      "metadata": {
        "colab": {
          "base_uri": "https://localhost:8080/"
        },
        "id": "AZb4OnKeTnLv",
        "outputId": "c617c5fb-352c-44cc-a224-a25682d94e06"
      },
      "execution_count": 276,
      "outputs": [
        {
          "output_type": "stream",
          "name": "stdout",
          "text": [
            "+---+------+----------+--------------+------------+\n",
            "| id|  name|       dob|validity_start|validity_end|\n",
            "+---+------+----------+--------------+------------+\n",
            "|  2|Goldie|11-02-1990|    01-01-1970|  12-12-9999|\n",
            "|  3| Divya|25-12-1990|    01-01-1970|  12-12-9999|\n",
            "+---+------+----------+--------------+------------+\n",
            "\n"
          ]
        }
      ]
    },
    {
      "cell_type": "markdown",
      "source": [
        "**Step5**\n",
        "\n",
        "Get the new records thats needs to be appended to the final table"
      ],
      "metadata": {
        "id": "cZNJIPxlEMzW"
      }
    },
    {
      "cell_type": "code",
      "source": [
        "#get the new record that needs to be updated to the SQL table \n",
        "new_data = \"\"\"\n",
        " SELECT   \n",
        "          current_data.id,\n",
        "          customer_data.name,\n",
        "          customer_data.updated_dob,\n",
        "          '12-03-2023' AS validity_start,\n",
        "          '12-12-9999' AS validity_end\n",
        "          \n",
        " FROM     customer_data \n",
        "          LEFT OUTER JOIN current_data \n",
        "          ON current_data.name = customer_data.name \n",
        "\n",
        "\"\"\"\n",
        "df_new_data = spark.sql(new_data)\n",
        "df_new_data.createOrReplaceTempView(\"tobeappended_record\")\n",
        "df_new_data.show()"
      ],
      "metadata": {
        "colab": {
          "base_uri": "https://localhost:8080/"
        },
        "id": "AufIERcUVdye",
        "outputId": "b1a922d5-414c-467e-f34d-920fe2691a5b"
      },
      "execution_count": 277,
      "outputs": [
        {
          "output_type": "stream",
          "name": "stdout",
          "text": [
            "+---+------+-----------+--------------+------------+\n",
            "| id|  name|updated_dob|validity_start|validity_end|\n",
            "+---+------+-----------+--------------+------------+\n",
            "|  1|Harsha| 05-09-1990|    12-03-2023|  12-12-9999|\n",
            "+---+------+-----------+--------------+------------+\n",
            "\n"
          ]
        }
      ]
    },
    {
      "cell_type": "markdown",
      "source": [
        "**Step6**\n",
        "\n",
        "Combine all the tables and print the resulting SCD type 2 table"
      ],
      "metadata": {
        "id": "Z8Q11PGOEUk1"
      }
    },
    {
      "cell_type": "code",
      "source": [
        "#combine all tables now to get the final SCD type 2 table\n",
        "command = \"\"\"\n",
        "                SELECT  * \n",
        "                FROM update_curr_records_value\n",
        "                UNION \n",
        "                SELECT *\n",
        "                FROM unaffected_recs\n",
        "                UNION\n",
        "                SELECT *\n",
        "                FROM tobeappended_record\n",
        "                \"\"\"\n",
        "\n",
        "final_table = spark.sql(command)\n",
        "print(\"Initial customer data: \")\n",
        "df_current_data.show()\n",
        "print(\"Final SCD type 2 table: \")\n",
        "final_table.show()"
      ],
      "metadata": {
        "colab": {
          "base_uri": "https://localhost:8080/"
        },
        "id": "7O0NW-6OX78F",
        "outputId": "7f9abf89-307a-4f7b-8a94-9fa549324abe"
      },
      "execution_count": 279,
      "outputs": [
        {
          "output_type": "stream",
          "name": "stdout",
          "text": [
            "Initial customer data: \n",
            "+---+------+----------+--------------+------------+\n",
            "| id|  name|       dob|validity_start|validity_end|\n",
            "+---+------+----------+--------------+------------+\n",
            "|  1|Harsha|20-08-1990|    01-01-1970|  12-12-9999|\n",
            "|  2|Goldie|11-02-1990|    01-01-1970|  12-12-9999|\n",
            "|  3| Divya|25-12-1990|    01-01-1970|  12-12-9999|\n",
            "+---+------+----------+--------------+------------+\n",
            "\n",
            "Final SCD type 2 table: \n",
            "+---+------+----------+--------------+------------+\n",
            "| id|  name|       dob|validity_start|validity_end|\n",
            "+---+------+----------+--------------+------------+\n",
            "|  1|Harsha|20-08-1990|    01-01-1970|  12-03-2023|\n",
            "|  3| Divya|25-12-1990|    01-01-1970|  12-12-9999|\n",
            "|  2|Goldie|11-02-1990|    01-01-1970|  12-12-9999|\n",
            "|  1|Harsha|05-09-1990|    12-03-2023|  12-12-9999|\n",
            "+---+------+----------+--------------+------------+\n",
            "\n"
          ]
        }
      ]
    }
  ]
}