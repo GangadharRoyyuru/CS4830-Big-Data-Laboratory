{
  "cells": [
    {
      "cell_type": "markdown",
      "source": [
        "Installing the required packages"
      ],
      "metadata": {
        "id": "kRIT4EDJQAoq"
      },
      "id": "kRIT4EDJQAoq"
    },
    {
      "cell_type": "code",
      "execution_count": null,
      "id": "cf164ac1-bb50-433e-8ab7-fafddbe9e33c",
      "metadata": {
        "id": "cf164ac1-bb50-433e-8ab7-fafddbe9e33c"
      },
      "outputs": [],
      "source": [
        "from pyspark.ml.feature import StringIndexer,VectorAssembler,Normalizer\n",
        "from pyspark.ml.classification import LogisticRegression\n",
        "from pyspark.ml.classification import DecisionTreeClassifier\n",
        "from pyspark.ml.classification import RandomForestClassifier,LinearSVC\n",
        "from pyspark.ml.classification import GBTClassifier\n",
        "from pyspark.ml.feature import PCA\n",
        "from pyspark.ml.evaluation import MulticlassClassificationEvaluator\n",
        "from pyspark.ml.tuning import CrossValidator, ParamGridBuilder\n",
        "from pyspark.ml import Pipeline\n",
        "from pyspark.sql import SparkSession\n",
        "from pyspark.ml.feature import Imputer\n",
        "from pyspark.sql.functions import col, explode, array, lit,countDistinct,when,regexp_replace\n",
        "\n",
        "spark = SparkSession.builder.appName('me19b190-ass9').getOrCreate()"
      ]
    },
    {
      "cell_type": "markdown",
      "source": [
        "Downloading the e Pima Indians Diabetes Database and uploading to a google cloud bucket\n"
      ],
      "metadata": {
        "id": "I3IZu9raP7i9"
      },
      "id": "I3IZu9raP7i9"
    },
    {
      "cell_type": "code",
      "execution_count": null,
      "id": "b8b68dce-a304-43b5-8d88-c64095efc555",
      "metadata": {
        "id": "b8b68dce-a304-43b5-8d88-c64095efc555"
      },
      "outputs": [],
      "source": [
        "file_location =\"gs://dataproc-staging-us-central1-775468331472-mpvg9j7b/diabetes.csv\"\n",
        "\n",
        "\n",
        "training = spark.read.format(\"csv\").option(\"header\",\"True\").load(file_location).toDF(\"Pregnancies\",\"Glucose\",\"BloodPressure\",\"SkinThickness\",\"Insulin\",\"BMI\",\"DiabetesPedigreeFunction\",\"Age\",\"Outcome\")\n",
        "training = training.withColumn(\"Pregnancies\",\n",
        "training[\"Pregnancies\"].cast(\"float\")).withColumn(\"Glucose\",\n",
        "training[\"Glucose\"].cast(\"float\")).withColumn(\"BloodPressure\",\n",
        "training[\"BloodPressure\"].cast(\"float\")).withColumn(\"SkinThickness\",\n",
        "training[\"SkinThickness\"].cast(\"float\")).withColumn(\"Insulin\",\n",
        "training[\"Insulin\"].cast(\"float\")).withColumn(\"BMI\",\n",
        "training[\"BMI\"].cast(\"float\")).withColumn(\"DiabetesPedigreeFunction\",\n",
        "training[\"DiabetesPedigreeFunction\"].cast(\"float\")).withColumn(\"Age\",\n",
        "training[\"Age\"].cast(\"float\")).withColumn(\"Outcome\",\n",
        "training[\"Outcome\"].cast(\"float\"))\n",
        "training = training.withColumnRenamed(\"Outcome\",\"label\")"
      ]
    },
    {
      "cell_type": "code",
      "execution_count": null,
      "id": "b208d30a-7903-4f27-ac85-ef3aa3b7801a",
      "metadata": {
        "id": "b208d30a-7903-4f27-ac85-ef3aa3b7801a",
        "outputId": "83c97f8f-2e6a-4c24-9cc7-624f44a08d37"
      },
      "outputs": [
        {
          "name": "stdout",
          "output_type": "stream",
          "text": "+-----------+-------+-------------+-------------+-------+----+------------------------+----+-----+\n|Pregnancies|Glucose|BloodPressure|SkinThickness|Insulin| BMI|DiabetesPedigreeFunction| Age|label|\n+-----------+-------+-------------+-------------+-------+----+------------------------+----+-----+\n|        6.0|  148.0|         72.0|         35.0|   null|33.6|                   0.627|50.0|  1.0|\n|        1.0|   85.0|         66.0|         29.0|   null|26.6|                   0.351|31.0|  0.0|\n|        8.0|  183.0|         64.0|         null|   null|23.3|                   0.672|32.0|  1.0|\n|        1.0|   89.0|         66.0|         23.0|   94.0|28.1|                   0.167|21.0|  0.0|\n|        0.0|  137.0|         40.0|         35.0|  168.0|43.1|                   2.288|33.0|  1.0|\n|        5.0|  116.0|         74.0|         null|   null|25.6|                   0.201|30.0|  0.0|\n|        3.0|   78.0|         50.0|         32.0|   88.0|31.0|                   0.248|26.0|  1.0|\n|       10.0|  115.0|         null|         null|   null|35.3|                   0.134|29.0|  0.0|\n|        2.0|  197.0|         70.0|         45.0|  543.0|30.5|                   0.158|53.0|  1.0|\n|        8.0|  125.0|         96.0|         null|   null|null|                   0.232|54.0|  1.0|\n|        4.0|  110.0|         92.0|         null|   null|37.6|                   0.191|30.0|  0.0|\n|       10.0|  168.0|         74.0|         null|   null|38.0|                   0.537|34.0|  1.0|\n|       10.0|  139.0|         80.0|         null|   null|27.1|                   1.441|57.0|  0.0|\n|        1.0|  189.0|         60.0|         23.0|  846.0|30.1|                   0.398|59.0|  1.0|\n|        5.0|  166.0|         72.0|         19.0|  175.0|25.8|                   0.587|51.0|  1.0|\n|        7.0|  100.0|         null|         null|   null|30.0|                   0.484|32.0|  1.0|\n|        0.0|  118.0|         84.0|         47.0|  230.0|45.8|                   0.551|31.0|  1.0|\n|        7.0|  107.0|         74.0|         null|   null|29.6|                   0.254|31.0|  1.0|\n|        1.0|  103.0|         30.0|         38.0|   83.0|43.3|                   0.183|33.0|  0.0|\n|        1.0|  115.0|         70.0|         30.0|   96.0|34.6|                   0.529|32.0|  1.0|\n+-----------+-------+-------------+-------------+-------+----+------------------------+----+-----+\nonly showing top 20 rows\n\n"
        }
      ],
      "source": [
        "#replacing the value zero for columns Glucose|BloodPressure|SkinThickness|Insulin| BMI|DiabetesPedigreeFunction| Age with NULL\n",
        "\n",
        "training = training.replace(0.0, value=None, subset=training.columns[1:-1])\n",
        "training.show()"
      ]
    },
    {
      "cell_type": "code",
      "execution_count": null,
      "id": "1adb853a-9b89-4d8e-9f23-e36ea468e2b9",
      "metadata": {
        "id": "1adb853a-9b89-4d8e-9f23-e36ea468e2b9",
        "outputId": "0dd2eaf5-547a-4854-d1fc-eb551bb107b7"
      },
      "outputs": [
        {
          "data": {
            "text/plain": "['Pregnancies',\n 'Glucose',\n 'BloodPressure',\n 'SkinThickness',\n 'Insulin',\n 'BMI',\n 'DiabetesPedigreeFunction',\n 'Age',\n 'label']"
          },
          "execution_count": 318,
          "metadata": {},
          "output_type": "execute_result"
        }
      ],
      "source": [
        "training.columns"
      ]
    },
    {
      "cell_type": "code",
      "execution_count": null,
      "id": "f79c3ce4-ab88-499a-82ee-c3d42adf2fe3",
      "metadata": {
        "id": "f79c3ce4-ab88-499a-82ee-c3d42adf2fe3",
        "outputId": "0a7563fb-2a6b-488d-f710-b72312182532"
      },
      "outputs": [
        {
          "name": "stdout",
          "output_type": "stream",
          "text": "+-----------+-------+-------------+-------------+-------+----+------------------------+----+-----+\n|Pregnancies|Glucose|BloodPressure|SkinThickness|Insulin| BMI|DiabetesPedigreeFunction| Age|label|\n+-----------+-------+-------------+-------------+-------+----+------------------------+----+-----+\n|        0.0|   57.0|         60.0|         null|   null|21.7|                   0.735|67.0|  0.0|\n|        0.0|   67.0|         76.0|         null|   null|45.3|                   0.194|46.0|  0.0|\n|        0.0|   73.0|         null|         null|   null|21.1|                   0.342|25.0|  0.0|\n|        0.0|   74.0|         52.0|         10.0|   36.0|27.8|                   0.269|22.0|  0.0|\n|        0.0|   84.0|         64.0|         22.0|   66.0|35.8|                   0.545|21.0|  0.0|\n+-----------+-------+-------------+-------------+-------+----+------------------------+----+-----+\nonly showing top 5 rows\n\n"
        }
      ],
      "source": [
        "#split train and test data\n",
        "train,test = training.randomSplit([0.8,0.2],seed = 1)\n",
        "train.show(5)\n"
      ]
    },
    {
      "cell_type": "markdown",
      "id": "5c2faeb9-67d9-446d-82c1-2f7dd160e03c",
      "metadata": {
        "id": "5c2faeb9-67d9-446d-82c1-2f7dd160e03c"
      },
      "source": [
        "Null Value imputation"
      ]
    },
    {
      "cell_type": "code",
      "execution_count": null,
      "id": "b77711a7-ff50-4fb6-8892-1dc73869107f",
      "metadata": {
        "id": "b77711a7-ff50-4fb6-8892-1dc73869107f",
        "outputId": "471b00cc-5d38-4338-8e02-f75f064b2e8f"
      },
      "outputs": [
        {
          "name": "stdout",
          "output_type": "stream",
          "text": "+-----------+-------+-------------+-------------+---------+----+------------------------+----+-----+\n|Pregnancies|Glucose|BloodPressure|SkinThickness|  Insulin| BMI|DiabetesPedigreeFunction| Age|label|\n+-----------+-------+-------------+-------------+---------+----+------------------------+----+-----+\n|        0.0|   57.0|         60.0|    29.363432|154.67284|21.7|                   0.735|67.0|  0.0|\n|        0.0|   67.0|         76.0|    29.363432|154.67284|45.3|                   0.194|46.0|  0.0|\n|        0.0|   73.0|      72.5231|    29.363432|154.67284|21.1|                   0.342|25.0|  0.0|\n|        0.0|   74.0|         52.0|         10.0|     36.0|27.8|                   0.269|22.0|  0.0|\n|        0.0|   84.0|         64.0|         22.0|     66.0|35.8|                   0.545|21.0|  0.0|\n+-----------+-------+-------------+-------------+---------+----+------------------------+----+-----+\nonly showing top 5 rows\n\n"
        }
      ],
      "source": [
        "imputer = Imputer(\n",
        "    inputCols = train.columns,\n",
        "    outputCols = train.columns,\n",
        ").fit(train)\n",
        "\n",
        "train = imputer.transform(train)\n",
        "test = imputer.transform(test)\n",
        "train.show(5)"
      ]
    },
    {
      "cell_type": "markdown",
      "id": "9e35e8d0-6b04-429c-8e15-58a86dcef4da",
      "metadata": {
        "id": "9e35e8d0-6b04-429c-8e15-58a86dcef4da"
      },
      "source": [
        "Because it is a classification problem it is important to see if there is any class imbalance"
      ]
    },
    {
      "cell_type": "code",
      "execution_count": null,
      "id": "92b46188-0847-497d-a0f7-7a2bacbffd86",
      "metadata": {
        "id": "92b46188-0847-497d-a0f7-7a2bacbffd86",
        "outputId": "5fd1c7a6-5515-4690-a99f-71d2ba0a0c12"
      },
      "outputs": [
        {
          "name": "stdout",
          "output_type": "stream",
          "text": "Majority class is 0 with count:  408\nMinority class is 1 with count:  221\nratio of majority and minority class: 2\n"
        }
      ],
      "source": [
        "major_df = train.filter(train.label == 0.0)\n",
        "minor_df = train.filter(train.label == 1.0)\n",
        "print(\"Majority class is 0 with count: \",major_df.count())\n",
        "print(\"Minority class is 1 with count: \",minor_df.count())\n",
        "ratio = round(major_df.count()/minor_df.count())\n",
        "print(\"ratio of majority and minority class: {}\".format(ratio))"
      ]
    },
    {
      "cell_type": "markdown",
      "id": "48d2c2a1-28c2-4ae0-ac31-bf46d77299bc",
      "metadata": {
        "id": "48d2c2a1-28c2-4ae0-ac31-bf46d77299bc"
      },
      "source": [
        "Thus, there is class imbalance, Let us explore undersampling  and oversampling techniques"
      ]
    },
    {
      "cell_type": "code",
      "execution_count": null,
      "id": "97583dbf-1825-4cf4-884b-2fd12b4b53ce",
      "metadata": {
        "id": "97583dbf-1825-4cf4-884b-2fd12b4b53ce",
        "outputId": "7cc8af80-8fc1-4938-c473-220c7cf1d2c8"
      },
      "outputs": [
        {
          "name": "stdout",
          "output_type": "stream",
          "text": "Train data with Under Sampling\n+-----------+-------+-------------+-------------+---------+----+------------------------+----+-----+\n|Pregnancies|Glucose|BloodPressure|SkinThickness|  Insulin| BMI|DiabetesPedigreeFunction| Age|label|\n+-----------+-------+-------------+-------------+---------+----+------------------------+----+-----+\n|        0.0|   67.0|         76.0|    29.363432|154.67284|45.3|                   0.194|46.0|  0.0|\n|        0.0|   73.0|      72.5231|    29.363432|154.67284|21.1|                   0.342|25.0|  0.0|\n|        0.0|   74.0|         52.0|         10.0|     36.0|27.8|                   0.269|22.0|  0.0|\n|        0.0|   86.0|         68.0|         32.0|154.67284|35.8|                   0.238|25.0|  0.0|\n|        0.0|   91.0|         68.0|         32.0|    210.0|39.9|                   0.381|25.0|  0.0|\n+-----------+-------+-------------+-------------+---------+----+------------------------+----+-----+\nonly showing top 5 rows\n\n------------------------------------------------------------------------\nTrain data with Over Sampling\n+-----------+-------+-------------+-------------+---------+----+------------------------+----+-----+\n|Pregnancies|Glucose|BloodPressure|SkinThickness|  Insulin| BMI|DiabetesPedigreeFunction| Age|label|\n+-----------+-------+-------------+-------------+---------+----+------------------------+----+-----+\n|        0.0|  105.0|         84.0|    29.363432|154.67284|27.9|                   0.741|62.0|  1.0|\n|        0.0|  105.0|         84.0|    29.363432|154.67284|27.9|                   0.741|62.0|  1.0|\n|        0.0|  107.0|         62.0|         30.0|     74.0|36.6|                   0.757|25.0|  1.0|\n|        0.0|  107.0|         62.0|         30.0|     74.0|36.6|                   0.757|25.0|  1.0|\n|        0.0|  113.0|         76.0|    29.363432|154.67284|33.3|                   0.278|23.0|  1.0|\n+-----------+-------+-------------+-------------+---------+----+------------------------+----+-----+\nonly showing top 5 rows\n\n"
        }
      ],
      "source": [
        "#undersampling of the majority class\n",
        "sampled_majority_df = major_df.sample(False, 1/ratio)\n",
        "train_undersampling = sampled_majority_df.unionAll(minor_df)\n",
        "print(\"Train data with Under Sampling\")\n",
        "train_undersampling.show(5)\n",
        "print('------------------------------------------------------------------------')\n",
        "#oversampling\n",
        "a = range(ratio)\n",
        "print(\"Train data with Over Sampling\")\n",
        "# duplicate the minority rows\n",
        "train_oversampling = minor_df.withColumn(\"temp_col\", explode(array([lit(x) for x in a]))).drop('temp_col')\n",
        "train_oversampling.show(5)\n"
      ]
    },
    {
      "cell_type": "code",
      "execution_count": null,
      "id": "3b2c9414-03dd-47a4-b3cf-3348fc1af87e",
      "metadata": {
        "id": "3b2c9414-03dd-47a4-b3cf-3348fc1af87e"
      },
      "outputs": [],
      "source": [
        "#concatenating  the feature columns to make a feature vector\n",
        "assembler = VectorAssembler(inputCols  = [\"Pregnancies\",\"Glucose\",\"BloodPressure\",\"SkinThickness\",\"Insulin\",\"BMI\",\"DiabetesPedigreeFunction\",\"Age\"],\n",
        "                           outputCol = \"temp_features\")"
      ]
    },
    {
      "cell_type": "code",
      "execution_count": null,
      "id": "538ae4e0-ca86-47e2-a748-4b3c2b86119e",
      "metadata": {
        "id": "538ae4e0-ca86-47e2-a748-4b3c2b86119e",
        "outputId": "a58bf0dc-5dc9-4b58-ef5c-ecbcc9abbe76"
      },
      "outputs": [
        {
          "name": "stdout",
          "output_type": "stream",
          "text": "+-----------+-------+-------------+-------------+---------+----+------------------------+----+-----+--------------------------------------------------------------------------------------------------------------+\n|Pregnancies|Glucose|BloodPressure|SkinThickness|Insulin  |BMI |DiabetesPedigreeFunction|Age |label|temp_features                                                                                                 |\n+-----------+-------+-------------+-------------+---------+----+------------------------+----+-----+--------------------------------------------------------------------------------------------------------------+\n|0.0        |57.0   |60.0         |29.363432    |154.67284|21.7|0.735                   |67.0|0.0  |[0.0,57.0,60.0,29.363431930541992,154.67283630371094,21.700000762939453,0.7350000143051147,67.0]              |\n|0.0        |67.0   |76.0         |29.363432    |154.67284|45.3|0.194                   |46.0|0.0  |[0.0,67.0,76.0,29.363431930541992,154.67283630371094,45.29999923706055,0.1940000057220459,46.0]               |\n|0.0        |73.0   |72.5231      |29.363432    |154.67284|21.1|0.342                   |25.0|0.0  |[0.0,73.0,72.52310180664062,29.363431930541992,154.67283630371094,21.100000381469727,0.34200000762939453,25.0]|\n|0.0        |74.0   |52.0         |10.0         |36.0     |27.8|0.269                   |22.0|0.0  |[0.0,74.0,52.0,10.0,36.0,27.799999237060547,0.26899999380111694,22.0]                                         |\n|0.0        |84.0   |64.0         |22.0         |66.0     |35.8|0.545                   |21.0|0.0  |[0.0,84.0,64.0,22.0,66.0,35.79999923706055,0.5450000166893005,21.0]                                           |\n+-----------+-------+-------------+-------------+---------+----+------------------------+----+-----+--------------------------------------------------------------------------------------------------------------+\nonly showing top 5 rows\n\n"
        }
      ],
      "source": [
        "df = train\n",
        "df = assembler.transform(df)\n",
        "df.show(5, False)"
      ]
    },
    {
      "cell_type": "code",
      "execution_count": null,
      "id": "a3d74966-80a6-4057-bd55-3ab35be2401d",
      "metadata": {
        "id": "a3d74966-80a6-4057-bd55-3ab35be2401d"
      },
      "outputs": [],
      "source": [
        "normalizer = Normalizer(inputCol  = \"temp_features\",outputCol=\"norm_features\",p = 1.0)\n"
      ]
    },
    {
      "cell_type": "code",
      "execution_count": null,
      "id": "82d32025-5ab7-422e-ba4b-396644d558fe",
      "metadata": {
        "id": "82d32025-5ab7-422e-ba4b-396644d558fe"
      },
      "outputs": [],
      "source": [
        "df = normalizer.transform(df)"
      ]
    },
    {
      "cell_type": "code",
      "execution_count": null,
      "id": "d5c8a605-0ddf-43f0-988f-d0295cb16d22",
      "metadata": {
        "id": "d5c8a605-0ddf-43f0-988f-d0295cb16d22",
        "outputId": "d6c6bbdd-aef2-4e12-effd-0bc61567f418"
      },
      "outputs": [
        {
          "name": "stdout",
          "output_type": "stream",
          "text": "+--------------------+\n|       norm_features|\n+--------------------+\n|[0.0,0.1459774496...|\n|[0.0,0.1600840015...|\n|[0.0,0.1941482285...|\n|[0.0,0.3332297630...|\n|[0.0,0.2863522480...|\n+--------------------+\nonly showing top 5 rows\n\n"
        }
      ],
      "source": [
        "df.select(\"norm_features\").show(5)"
      ]
    },
    {
      "cell_type": "markdown",
      "source": [
        "**Feature Engineering:**\n",
        "\n",
        "For any Machine learning problem, feature extraction is very important. One of the most popular Machine Learning techniques for feature extraction is Principal component analysis(\"PCA\"). Thus, PCA has been performed to extract the 5 most prominent features in a dataset, which will be used for classification"
      ],
      "metadata": {
        "id": "uZdJd9zyO3a6"
      },
      "id": "uZdJd9zyO3a6"
    },
    {
      "cell_type": "code",
      "execution_count": null,
      "id": "1f807f09-561b-4073-9034-58c23b642783",
      "metadata": {
        "id": "1f807f09-561b-4073-9034-58c23b642783",
        "outputId": "931b8c19-713c-475a-ed49-3b08b2ca54a8"
      },
      "outputs": [
        {
          "name": "stdout",
          "output_type": "stream",
          "text": "+--------------------+\n|            features|\n+--------------------+\n|[0.23471773600388...|\n|[0.19963916199366...|\n|[0.23166956014258...|\n|[-0.0548345104460...|\n|[0.02144591420669...|\n+--------------------+\nonly showing top 5 rows\n\n"
        }
      ],
      "source": [
        "pca  = PCA(k = 5, inputCol = 'norm_features')\n",
        "pca.setOutputCol('features')\n",
        "\n",
        "model_pca = pca.fit(df)\n",
        "df = model_pca.transform(df)\n",
        "df.select(\"features\").show(5)"
      ]
    },
    {
      "cell_type": "code",
      "execution_count": null,
      "id": "207fd049-f151-43c2-90ae-799ac9439285",
      "metadata": {
        "id": "207fd049-f151-43c2-90ae-799ac9439285",
        "outputId": "e2d68083-c1eb-457f-ed6b-883cff8901e7"
      },
      "outputs": [
        {
          "name": "stdout",
          "output_type": "stream",
          "text": "Accuracy - Logistic regression: 0.7410071942446043 \nF1 score - Logistic regression: 0.7248035417819592 \n"
        }
      ],
      "source": [
        "lr = LogisticRegression(maxIter = 10)\n",
        "pipeline =  Pipeline(stages = [assembler,normalizer,pca,lr])\n",
        "\n",
        "model = pipeline.fit(train)\n",
        "pred = model.transform(test)\n",
        "print(\"Accuracy - Logistic regression: {} \".format(MulticlassClassificationEvaluator(metricName='accuracy').evaluate(pred)))\n",
        "print(\"F1 score - Logistic regression: {} \".format(MulticlassClassificationEvaluator(metricName='f1').evaluate(pred)))\n"
      ]
    },
    {
      "cell_type": "code",
      "execution_count": null,
      "id": "23ed0d01-c82d-4d00-8871-801a40010f8b",
      "metadata": {
        "id": "23ed0d01-c82d-4d00-8871-801a40010f8b",
        "outputId": "0289191b-56ad-465c-f266-0a96970b0e9f"
      },
      "outputs": [
        {
          "name": "stdout",
          "output_type": "stream",
          "text": "Accuracy - Decision Tree Classifier: 0.6690647482014388 \nF1 score - Decision Tree Classifier: 0.6773739449998443 \n"
        }
      ],
      "source": [
        "dt = DecisionTreeClassifier(maxDepth = 5)\n",
        "pipeline =  Pipeline(stages = [assembler,normalizer,model_pca,dt])\n",
        "model = pipeline.fit(train)\n",
        "pred = model.transform(test)\n",
        "print(\"Accuracy - Decision Tree Classifier: {} \".format(MulticlassClassificationEvaluator(metricName='accuracy').evaluate(pred)))\n",
        "print(\"F1 score - Decision Tree Classifier: {} \".format(MulticlassClassificationEvaluator(metricName='f1').evaluate(pred)))\n"
      ]
    },
    {
      "cell_type": "code",
      "execution_count": null,
      "id": "6d45ec84-5846-4d9c-9905-02d6638b69a7",
      "metadata": {
        "id": "6d45ec84-5846-4d9c-9905-02d6638b69a7",
        "outputId": "1b98d259-b517-4938-e0fc-047d639d1828"
      },
      "outputs": [
        {
          "name": "stdout",
          "output_type": "stream",
          "text": "Accuracy - Random Forest Classifier: 0.7769784172661871 \nF1 score - Random Forest Classifier: 0.7684902309848136 \n"
        }
      ],
      "source": [
        "rf = RandomForestClassifier(maxDepth = 6,numTrees = 100,featuresCol = 'features',featureSubsetStrategy = 'sqrt')\n",
        "pipeline =  Pipeline(stages = [assembler,normalizer,model_pca,rf])\n",
        "model = pipeline.fit(train)\n",
        "pred = model.transform(test)\n",
        "print(\"Accuracy - Random Forest Classifier: {} \".format(MulticlassClassificationEvaluator(metricName='accuracy').evaluate(pred)))\n",
        "print(\"F1 score - Random Forest Classifier: {} \".format(MulticlassClassificationEvaluator(metricName='f1').evaluate(pred)))\n"
      ]
    },
    {
      "cell_type": "code",
      "execution_count": null,
      "id": "b43be76c-28bb-40a2-bf6c-78fefabf6833",
      "metadata": {
        "id": "b43be76c-28bb-40a2-bf6c-78fefabf6833",
        "outputId": "dbea1df1-8110-4c6f-c16d-76fe6be289ed"
      },
      "outputs": [
        {
          "name": "stdout",
          "output_type": "stream",
          "text": "Accuracy - GBTClassifier: 0.6834532374100719 \nF1 score - GBTClassifier: 0.6863961891711121 \n"
        }
      ],
      "source": [
        "gbt = GBTClassifier(labelCol=\"label\", featuresCol=\"features\", maxIter=10)\n",
        "pipeline =  Pipeline(stages = [assembler,normalizer,model_pca,gbt])\n",
        "model = pipeline.fit(train)\n",
        "pred = model.transform(test)\n",
        "print(\"Accuracy - GBTClassifier: {} \".format(MulticlassClassificationEvaluator(metricName='accuracy').evaluate(pred)))\n",
        "print(\"F1 score - GBTClassifier: {} \".format(MulticlassClassificationEvaluator(metricName='f1').evaluate(pred)))\n"
      ]
    },
    {
      "cell_type": "code",
      "execution_count": null,
      "id": "fea06a60-f012-46d6-8230-9779ab1ed6b1",
      "metadata": {
        "id": "fea06a60-f012-46d6-8230-9779ab1ed6b1",
        "outputId": "8f83f2a2-fe48-4d84-87f1-6f5c51ed45d5"
      },
      "outputs": [
        {
          "name": "stdout",
          "output_type": "stream",
          "text": "Accuracy - GBTClassifier: 0.6618705035971223 \nF1 score - GBTClassifier: 0.527204210657448 \n"
        }
      ],
      "source": [
        "svc = LinearSVC(labelCol=\"label\", featuresCol=\"features\", maxIter=10,regParam=0.1)\n",
        "pipeline =  Pipeline(stages = [assembler,normalizer,model_pca,svc])\n",
        "model = pipeline.fit(train)\n",
        "pred = model.transform(test)\n",
        "print(\"Accuracy - GBTClassifier: {} \".format(MulticlassClassificationEvaluator(metricName='accuracy').evaluate(pred)))\n",
        "print(\"F1 score - GBTClassifier: {} \".format(MulticlassClassificationEvaluator(metricName='f1').evaluate(pred)))\n"
      ]
    },
    {
      "cell_type": "markdown",
      "id": "16d2eb72-dcaf-4f89-8ab1-d43abec8c10d",
      "metadata": {
        "id": "16d2eb72-dcaf-4f89-8ab1-d43abec8c10d"
      },
      "source": [
        "Let us see, if undersampling works better"
      ]
    },
    {
      "cell_type": "code",
      "execution_count": null,
      "id": "bc031d83-66a4-4168-addc-99c9030afa04",
      "metadata": {
        "tags": [],
        "id": "bc031d83-66a4-4168-addc-99c9030afa04",
        "outputId": "f3babe65-5a23-4900-8e05-7b1e6b4aeacb"
      },
      "outputs": [
        {
          "name": "stdout",
          "output_type": "stream",
          "text": "Accuracy - Logistic regression: 0.6402877697841727 \nF1 score - Logistic regression: 0.6498902572856968 \n"
        }
      ],
      "source": [
        "lr = LogisticRegression(maxIter = 10)\n",
        "pipeline =  Pipeline(stages = [assembler,normalizer,pca,lr])\n",
        "\n",
        "model = pipeline.fit(train_undersampling)\n",
        "pred = model.transform(test)\n",
        "print(\"Accuracy - Logistic regression: {} \".format(MulticlassClassificationEvaluator(metricName='accuracy').evaluate(pred)))\n",
        "print(\"F1 score - Logistic regression: {} \".format(MulticlassClassificationEvaluator(metricName='f1').evaluate(pred)))\n"
      ]
    },
    {
      "cell_type": "code",
      "execution_count": null,
      "id": "10759b6c-edb4-4c6d-b595-f1d36d4d6b81",
      "metadata": {
        "id": "10759b6c-edb4-4c6d-b595-f1d36d4d6b81",
        "outputId": "4787d479-aeb4-49b1-df47-1e1f391bcf2b"
      },
      "outputs": [
        {
          "name": "stdout",
          "output_type": "stream",
          "text": "Accuracy - Decision Tree Classifier: 0.5971223021582733 \nF1 score - Decision Tree Classifier: 0.5997508538322613 \n"
        }
      ],
      "source": [
        "dt = DecisionTreeClassifier(maxDepth = 5)\n",
        "pipeline =  Pipeline(stages = [assembler,normalizer,model_pca,dt])\n",
        "model = pipeline.fit(train_undersampling)\n",
        "pred = model.transform(test)\n",
        "print(\"Accuracy - Decision Tree Classifier: {} \".format(MulticlassClassificationEvaluator(metricName='accuracy').evaluate(pred)))\n",
        "print(\"F1 score - Decision Tree Classifier: {} \".format(MulticlassClassificationEvaluator(metricName='f1').evaluate(pred)))\n"
      ]
    },
    {
      "cell_type": "code",
      "execution_count": null,
      "id": "c639ac40-d242-44d5-98c5-d2160d81d063",
      "metadata": {
        "id": "c639ac40-d242-44d5-98c5-d2160d81d063",
        "outputId": "ff911638-33b4-4ae6-aa7c-ceb5e6c5404e"
      },
      "outputs": [
        {
          "name": "stdout",
          "output_type": "stream",
          "text": "Accuracy - Random Forest Classifier: 0.7050359712230215 \nF1 score - Random Forest Classifier: 0.7128305917181585 \n"
        }
      ],
      "source": [
        "rf = RandomForestClassifier(maxDepth = 6,numTrees = 100,featuresCol = 'features',featureSubsetStrategy = 'sqrt')\n",
        "pipeline =  Pipeline(stages = [assembler,normalizer,model_pca,rf])\n",
        "model = pipeline.fit(train_undersampling)\n",
        "pred = model.transform(test)\n",
        "print(\"Accuracy - Random Forest Classifier: {} \".format(MulticlassClassificationEvaluator(metricName='accuracy').evaluate(pred)))\n",
        "print(\"F1 score - Random Forest Classifier: {} \".format(MulticlassClassificationEvaluator(metricName='f1').evaluate(pred)))\n"
      ]
    },
    {
      "cell_type": "code",
      "execution_count": null,
      "id": "7f33e6f2-e55c-470c-b6f1-26d072d7de6c",
      "metadata": {
        "id": "7f33e6f2-e55c-470c-b6f1-26d072d7de6c",
        "outputId": "c03afcb4-58e8-4208-ec19-38759085f5bb"
      },
      "outputs": [
        {
          "name": "stdout",
          "output_type": "stream",
          "text": "Accuracy - GBTClassifier: 0.6402877697841727 \nF1 score - GBTClassifier: 0.6481010680177662 \n"
        }
      ],
      "source": [
        "gbt = GBTClassifier(labelCol=\"label\", featuresCol=\"features\", maxIter=10)\n",
        "pipeline =  Pipeline(stages = [assembler,normalizer,model_pca,gbt])\n",
        "model = pipeline.fit(train_undersampling)\n",
        "pred = model.transform(test)\n",
        "print(\"Accuracy - GBTClassifier: {} \".format(MulticlassClassificationEvaluator(metricName='accuracy').evaluate(pred)))\n",
        "print(\"F1 score - GBTClassifier: {} \".format(MulticlassClassificationEvaluator(metricName='f1').evaluate(pred)))\n"
      ]
    },
    {
      "cell_type": "code",
      "execution_count": null,
      "id": "b6b032ac-c67a-450f-8bbd-046b4d4c8ad4",
      "metadata": {
        "id": "b6b032ac-c67a-450f-8bbd-046b4d4c8ad4",
        "outputId": "feac04e0-43c9-49f6-f58f-7b5140174776"
      },
      "outputs": [
        {
          "name": "stdout",
          "output_type": "stream",
          "text": "Accuracy - GBTClassifier: 0.6402877697841727 \nF1 score - GBTClassifier: 0.6499078016149341 \n"
        }
      ],
      "source": [
        "svc = LinearSVC(labelCol=\"label\", featuresCol=\"features\", maxIter=10,regParam=0.1)\n",
        "pipeline =  Pipeline(stages = [assembler,normalizer,model_pca,svc])\n",
        "model = pipeline.fit(train_undersampling)\n",
        "pred = model.transform(test)\n",
        "print(\"Accuracy - GBTClassifier: {} \".format(MulticlassClassificationEvaluator(metricName='accuracy').evaluate(pred)))\n",
        "print(\"F1 score - GBTClassifier: {} \".format(MulticlassClassificationEvaluator(metricName='f1').evaluate(pred)))\n"
      ]
    },
    {
      "cell_type": "markdown",
      "id": "b5293113-5718-4db8-b5f9-a81a7cd8899a",
      "metadata": {
        "id": "b5293113-5718-4db8-b5f9-a81a7cd8899a"
      },
      "source": [
        "Let us see if oversampling techniques works better"
      ]
    },
    {
      "cell_type": "code",
      "execution_count": null,
      "id": "b6f0f480-fdfa-45da-94c0-8130e4a8ca6e",
      "metadata": {
        "tags": [],
        "id": "b6f0f480-fdfa-45da-94c0-8130e4a8ca6e",
        "outputId": "b0ca374f-1ca1-47fc-b5c1-724ac4368173"
      },
      "outputs": [
        {
          "name": "stderr",
          "output_type": "stream",
          "text": "23/04/07 12:08:47 WARN org.apache.spark.ml.util.Instrumentation: [1e5e6976] All labels are the same value and fitIntercept=true, so the coefficients will be zeros. Training is not needed.\n"
        },
        {
          "name": "stdout",
          "output_type": "stream",
          "text": "Accuracy - Logistic regression: 0.3381294964028777 \nF1 score - Logistic regression: 0.1708826487197339 \n"
        }
      ],
      "source": [
        "lr = LogisticRegression(maxIter = 10)\n",
        "pipeline =  Pipeline(stages = [assembler,normalizer,pca,lr])\n",
        "\n",
        "model = pipeline.fit(train_oversampling)\n",
        "pred = model.transform(test)\n",
        "print(\"Accuracy - Logistic regression: {} \".format(MulticlassClassificationEvaluator(metricName='accuracy').evaluate(pred)))\n",
        "print(\"F1 score - Logistic regression: {} \".format(MulticlassClassificationEvaluator(metricName='f1').evaluate(pred)))\n"
      ]
    },
    {
      "cell_type": "code",
      "execution_count": null,
      "id": "9c280fd0-2016-4f8e-99c9-d314f387a5f6",
      "metadata": {
        "id": "9c280fd0-2016-4f8e-99c9-d314f387a5f6",
        "outputId": "6a595323-dcc2-4a0f-a36d-47539d29f824"
      },
      "outputs": [
        {
          "name": "stdout",
          "output_type": "stream",
          "text": "Accuracy - Decision Tree Classifier: 0.3381294964028777 \nF1 score - Decision Tree Classifier: 0.1708826487197339 \n"
        }
      ],
      "source": [
        "dt = DecisionTreeClassifier(maxDepth = 5)\n",
        "pipeline =  Pipeline(stages = [assembler,normalizer,model_pca,dt])\n",
        "model = pipeline.fit(train_oversampling)\n",
        "pred = model.transform(test)\n",
        "print(\"Accuracy - Decision Tree Classifier: {} \".format(MulticlassClassificationEvaluator(metricName='accuracy').evaluate(pred)))\n",
        "print(\"F1 score - Decision Tree Classifier: {} \".format(MulticlassClassificationEvaluator(metricName='f1').evaluate(pred)))\n"
      ]
    },
    {
      "cell_type": "code",
      "execution_count": null,
      "id": "1c2a0354-1514-4914-a670-557bd4a27fd3",
      "metadata": {
        "id": "1c2a0354-1514-4914-a670-557bd4a27fd3",
        "outputId": "390eb278-5b81-4c36-cc03-9bb4f87952c3"
      },
      "outputs": [
        {
          "name": "stdout",
          "output_type": "stream",
          "text": "Accuracy - Random Forest Classifier: 0.3381294964028777 \nF1 score - Random Forest Classifier: 0.1708826487197339 \n"
        }
      ],
      "source": [
        "rf = RandomForestClassifier(maxDepth = 6,numTrees = 100,featuresCol = 'features',featureSubsetStrategy = 'sqrt')\n",
        "pipeline =  Pipeline(stages = [assembler,normalizer,model_pca,rf])\n",
        "model = pipeline.fit(train_oversampling)\n",
        "pred = model.transform(test)\n",
        "print(\"Accuracy - Random Forest Classifier: {} \".format(MulticlassClassificationEvaluator(metricName='accuracy').evaluate(pred)))\n",
        "print(\"F1 score - Random Forest Classifier: {} \".format(MulticlassClassificationEvaluator(metricName='f1').evaluate(pred)))\n"
      ]
    },
    {
      "cell_type": "code",
      "execution_count": null,
      "id": "44cc03a7-b6bc-4f1c-b85f-80b4b21bbad5",
      "metadata": {
        "id": "44cc03a7-b6bc-4f1c-b85f-80b4b21bbad5",
        "outputId": "121d935d-bf2d-428e-dc2d-c7200bbd9ffd"
      },
      "outputs": [
        {
          "name": "stdout",
          "output_type": "stream",
          "text": "Accuracy - GBTClassifier: 0.3381294964028777 \nF1 score - GBTClassifier: 0.1708826487197339 \n"
        }
      ],
      "source": [
        "gbt = GBTClassifier(labelCol=\"label\", featuresCol=\"features\", maxIter=10)\n",
        "pipeline =  Pipeline(stages = [assembler,normalizer,model_pca,gbt])\n",
        "model = pipeline.fit(train_oversampling)\n",
        "pred = model.transform(test)\n",
        "print(\"Accuracy - GBTClassifier: {} \".format(MulticlassClassificationEvaluator(metricName='accuracy').evaluate(pred)))\n",
        "print(\"F1 score - GBTClassifier: {} \".format(MulticlassClassificationEvaluator(metricName='f1').evaluate(pred)))\n"
      ]
    },
    {
      "cell_type": "code",
      "execution_count": null,
      "id": "7cfdadfb-852a-446a-9505-bd173c843494",
      "metadata": {
        "id": "7cfdadfb-852a-446a-9505-bd173c843494",
        "outputId": "2129ca34-51b9-4fda-87e3-ac84f96201c1"
      },
      "outputs": [
        {
          "name": "stdout",
          "output_type": "stream",
          "text": "Accuracy - GBTClassifier: 0.3381294964028777 \nF1 score - GBTClassifier: 0.1708826487197339 \n"
        }
      ],
      "source": [
        "svc = LinearSVC(labelCol=\"label\", featuresCol=\"features\", maxIter=10,regParam=0.1)\n",
        "pipeline =  Pipeline(stages = [assembler,normalizer,model_pca,svc])\n",
        "model = pipeline.fit(train_oversampling)\n",
        "pred = model.transform(test)\n",
        "print(\"Accuracy - GBTClassifier: {} \".format(MulticlassClassificationEvaluator(metricName='accuracy').evaluate(pred)))\n",
        "print(\"F1 score - GBTClassifier: {} \".format(MulticlassClassificationEvaluator(metricName='f1').evaluate(pred)))\n"
      ]
    },
    {
      "cell_type": "markdown",
      "id": "6f015872-2484-471b-bb82-b75bf3e7428d",
      "metadata": {
        "id": "6f015872-2484-471b-bb82-b75bf3e7428d"
      },
      "source": [
        "**Conclusion**:\n",
        "\n",
        "\n",
        "\n",
        "Random Forest classifier without under sampling or oversampling is giving best results followed by logistic regression (without undersampling or oversampling)\n",
        "\n",
        "**Accuracy - Random Forest Classifier: 0.7769784172661871**\n",
        "\n",
        "**F1 score - Random Forest Classifier: 0.7684902309848136**\n",
        "\n",
        "**Accuracy - Logistic regression: 0.7410071942446043** \n",
        "\n",
        "**F1 score - Logistic regression: 0.7248035417819592** \n"
      ]
    }
  ],
  "metadata": {
    "kernelspec": {
      "display_name": "PySpark",
      "language": "python",
      "name": "pyspark"
    },
    "language_info": {
      "codemirror_mode": {
        "name": "ipython",
        "version": 3
      },
      "file_extension": ".py",
      "mimetype": "text/x-python",
      "name": "python",
      "nbconvert_exporter": "python",
      "pygments_lexer": "ipython3",
      "version": "3.8.15"
    },
    "colab": {
      "provenance": []
    }
  },
  "nbformat": 4,
  "nbformat_minor": 5
}